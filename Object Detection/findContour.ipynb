{
 "cells": [
  {
   "cell_type": "code",
   "execution_count": 1,
   "metadata": {},
   "outputs": [],
   "source": [
    "import cv2\n",
    "import numpy as np"
   ]
  },
  {
   "cell_type": "code",
   "execution_count": null,
   "metadata": {},
   "outputs": [],
   "source": [
    "def findContours(image):\n",
    "    contours = []\n",
    "    visited = set()  # set to keep track of visited pixels\n",
    "\n",
    "    # define the Moore neighborhood\n",
    "    neighbors = [(1, 0), (1, -1), (0, -1), (-1, -1), (-1, 0), (-1, 1), (0, 1), (1, 1)]\n",
    "\n",
    "    # iterate over each pixel in the image\n",
    "    for y in range(image.shape[0]):\n",
    "        for x in range(image.shape[1]):\n",
    "            # check if the pixel is part of an object and not visited yet\n",
    "            if image[y, x] != 0 and (y, x) not in visited:\n",
    "                contour = []\n",
    "                current_point = (y, x)\n",
    "                contour.append(current_point)\n",
    "\n",
    "                # start tracing the contour\n",
    "                while True:\n",
    "                    # look for the next contour point in the Moore neighborhood\n",
    "                    for neighbor in neighbors:\n",
    "                        next_point = (current_point[0] + neighbor[0], current_point[1] + neighbor[1])\n",
    "\n",
    "                        # check if the next point is within the image boundaries\n",
    "                        if 0 <= next_point[0] < image.shape[0] and 0 <= next_point[1] < image.shape[1]:\n",
    "                            # check if the next point is part of the contour\n",
    "                            if image[next_point[0], next_point[1]] != 0:\n",
    "                                contour.append(next_point)\n",
    "                                visited.add(next_point)\n",
    "                                current_point = next_point\n",
    "                                break  # move to the next point in the contour\n",
    "                    else:\n",
    "                        # if no valid neighbor found, stop tracing the contour\n",
    "                        break\n",
    "\n",
    "                # add the traced contour to the list of contours\n",
    "                contours.append(contour)\n",
    "\n",
    "    return contours\n"
   ]
  }
 ],
 "metadata": {
  "kernelspec": {
   "display_name": "Python 3",
   "language": "python",
   "name": "python3"
  },
  "language_info": {
   "codemirror_mode": {
    "name": "ipython",
    "version": 3
   },
   "file_extension": ".py",
   "mimetype": "text/x-python",
   "name": "python",
   "nbconvert_exporter": "python",
   "pygments_lexer": "ipython3",
   "version": "3.8.10"
  }
 },
 "nbformat": 4,
 "nbformat_minor": 2
}
