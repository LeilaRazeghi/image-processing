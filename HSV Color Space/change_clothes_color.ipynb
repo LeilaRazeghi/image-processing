{
 "cells": [
  {
   "cell_type": "code",
   "execution_count": 1,
   "metadata": {},
   "outputs": [],
   "source": [
    "import cv2\n",
    "import numpy as np\n",
    "import matplotlib.pyplot as plt"
   ]
  },
  {
   "cell_type": "code",
   "execution_count": 3,
   "metadata": {},
   "outputs": [
    {
     "data": {
      "text/plain": [
       "True"
      ]
     },
     "execution_count": 3,
     "metadata": {},
     "output_type": "execute_result"
    }
   ],
   "source": [
    "img = cv2.imread('input/ashkan.jpg')\n",
    "img2 = cv2.cvtColor(img,cv2.COLOR_BGR2HSV)\n",
    "\n",
    "H, S, V = cv2.split(img2)\n",
    "\n",
    "for i in range(img2.shape[0]):\n",
    "    for j in range(img2.shape[1]):\n",
    "        if (H[i,j] < 270 or H[i,j] > 200) and S[i,j] > 140 :\n",
    "            H[i,j] += 90\n",
    "\n",
    "img2 = cv2.merge((H,S,V))\n",
    "img2 = cv2.cvtColor(img2,cv2.COLOR_HSV2BGR)\n",
    "imgs = np.hstack((img,img2))\n",
    "cv2.imwrite(\"output/clothes_color.png\",imgs)"
   ]
  }
 ],
 "metadata": {
  "kernelspec": {
   "display_name": "Python 3",
   "language": "python",
   "name": "python3"
  },
  "language_info": {
   "codemirror_mode": {
    "name": "ipython",
    "version": 3
   },
   "file_extension": ".py",
   "mimetype": "text/x-python",
   "name": "python",
   "nbconvert_exporter": "python",
   "pygments_lexer": "ipython3",
   "version": "3.8.10"
  }
 },
 "nbformat": 4,
 "nbformat_minor": 2
}
