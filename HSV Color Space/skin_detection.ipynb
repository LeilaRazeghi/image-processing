{
 "cells": [
  {
   "cell_type": "code",
   "execution_count": 1,
   "metadata": {},
   "outputs": [],
   "source": [
    "import imutils\n",
    "import argparse\n",
    "import numpy as np\n",
    "import cv2"
   ]
  },
  {
   "cell_type": "code",
   "execution_count": 2,
   "metadata": {},
   "outputs": [],
   "source": [
    "ap = argparse.ArgumentParser()\n",
    "lower = np.array([0, 48, 80], dtype = \"uint8\")\n",
    "upper = np.array([20, 255, 255], dtype = \"uint8\")"
   ]
  },
  {
   "cell_type": "code",
   "execution_count": 3,
   "metadata": {},
   "outputs": [],
   "source": [
    "frame = cv2.imread('input\\photo_2024-02-22_09-38-19.jpg')\n",
    "frame = imutils.resize(frame, width = 400)\n",
    "converted = cv2.cvtColor(frame, cv2.COLOR_BGR2HSV)\n",
    "skinMask = cv2.inRange(converted, lower, upper)\n",
    "\n",
    "# apply a series of erosions and dilations to the mask\n",
    "# using an elliptical kernel\n",
    "kernel = cv2.getStructuringElement(cv2.MORPH_ELLIPSE, (1, 1))\n",
    "skinMask = cv2.erode(skinMask, kernel, iterations = 2)\n",
    "skinMask = cv2.dilate(skinMask, kernel, iterations = 2)\n",
    "\n",
    "# blur the mask to help remove noise, then apply the\n",
    "# mask to the frame\n",
    "skinMask = cv2.GaussianBlur(skinMask, (3, 3), 0)\n",
    "skin = cv2.bitwise_and(frame, frame, mask = skinMask)\n",
    "\n",
    "# show the skin in the image along with the mask\n",
    "cv2.imshow(\"images\", np.hstack([frame, skin]))\n",
    "cv2.imwrite(\"output/skin.jpg\", skin)\n",
    "cv2.waitKey()\n"
   ]
  }
 ],
 "metadata": {
  "kernelspec": {
   "display_name": "Python 3",
   "language": "python",
   "name": "python3"
  },
  "language_info": {
   "codemirror_mode": {
    "name": "ipython",
    "version": 3
   },
   "file_extension": ".py",
   "mimetype": "text/x-python",
   "name": "python",
   "nbconvert_exporter": "python",
   "pygments_lexer": "ipython3",
   "version": "3.8.10"
  }
 },
 "nbformat": 4,
 "nbformat_minor": 2
}
