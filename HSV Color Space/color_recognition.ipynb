{
 "cells": [
  {
   "cell_type": "code",
   "execution_count": 2,
   "metadata": {},
   "outputs": [],
   "source": [
    "import cv2\n",
    "import numpy as np "
   ]
  },
  {
   "cell_type": "code",
   "execution_count": 3,
   "metadata": {},
   "outputs": [
    {
     "ename": "",
     "evalue": "",
     "output_type": "error",
     "traceback": [
      "\u001b[1;31mThe Kernel crashed while executing code in the the current cell or a previous cell. Please review the code in the cell(s) to identify a possible cause of the failure. Click <a href='https://aka.ms/vscodeJupyterKernelCrash'>here</a> for more info. View Jupyter <a href='command:jupyter.viewOutput'>log</a> for further details."
     ]
    }
   ],
   "source": [
    "cap = cv2.VideoCapture(0)\n",
    "\n",
    "while True:\n",
    "\n",
    "    _ , frame = cap.read()\n",
    "    hsv_frame = cv2.cvtColor(frame , cv2.COLOR_BGR2HSV)\n",
    "    rect = cv2.rectangle(frame , (230 , 110) , (450, 310)  , 255 , 3)\n",
    " \n",
    "    height, width, _ = frame.shape\n",
    "    x = int(width / 2)\n",
    "    y = int(height / 2)\n",
    "\n",
    "    center = hsv_frame[y, x]\n",
    "    hue_value = center[0]\n",
    "\n",
    "    if 0< hue_value < 5 or 170 <= hue_value <= 180:\n",
    "        color = \"RED\"\n",
    "    elif 15 <= hue_value <= 20:\n",
    "        color = \"ORANGE\"\n",
    "    elif 25<= hue_value <= 33:\n",
    "        color = \"YELLOW\"\n",
    "    elif 40 <= hue_value <= 78:\n",
    "        color = \"GREEN\"\n",
    "    elif 85<= hue_value <= 131:\n",
    "        color = \"BLUE\"\n",
    "    elif 133 <= hue_value <= 170:\n",
    "        color = \"PURPLE\"\n",
    "    else:\n",
    "        color = \"Unknown\"\n",
    "\n",
    "\n",
    "\n",
    "    cv2.putText(frame, color, (x - 200, 100), 0, 2, 0, 2)\n",
    "    cv2.imshow(\"Frame\", frame)\n",
    "    if cv2.waitKey(1) & 0xFF == ord(\"q\"):\n",
    "        break\n",
    "\n"
   ]
  }
 ],
 "metadata": {
  "kernelspec": {
   "display_name": "Python 3",
   "language": "python",
   "name": "python3"
  },
  "language_info": {
   "codemirror_mode": {
    "name": "ipython",
    "version": 3
   },
   "file_extension": ".py",
   "mimetype": "text/x-python",
   "name": "python",
   "nbconvert_exporter": "python",
   "pygments_lexer": "ipython3",
   "version": "3.8.10"
  }
 },
 "nbformat": 4,
 "nbformat_minor": 2
}
