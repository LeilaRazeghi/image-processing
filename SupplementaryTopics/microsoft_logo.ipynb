{
 "cells": [
  {
   "cell_type": "code",
   "execution_count": 9,
   "metadata": {},
   "outputs": [],
   "source": [
    "from PIL import Image"
   ]
  },
  {
   "cell_type": "code",
   "execution_count": 10,
   "metadata": {},
   "outputs": [],
   "source": [
    "input_path = 'input/ms_logo.png'\n",
    "output_path = 'output/ms_logo_transparent.png'"
   ]
  },
  {
   "cell_type": "code",
   "execution_count": 11,
   "metadata": {},
   "outputs": [],
   "source": [
    "input_image = Image.open(input_path)\n",
    "rgba_image = input_image.convert('RGBA')"
   ]
  },
  {
   "cell_type": "code",
   "execution_count": 15,
   "metadata": {},
   "outputs": [],
   "source": [
    "data = rgba_image.getdata()\n",
    "new_data = []\n",
    "for item in data:\n",
    "    if item[0] == 100 and item[1] == 100 and item[2] == 100:\n",
    "        new_data.append((100, 100, 100, 0))\n",
    "    else:\n",
    "        new_data.append(item)\n",
    "\n",
    "rgba_image.putdata(new_data)\n",
    "rgba_image.save(output_path, format='PNG')\n"
   ]
  },
  {
   "cell_type": "markdown",
   "metadata": {},
   "source": []
  }
 ],
 "metadata": {
  "kernelspec": {
   "display_name": "Python 3",
   "language": "python",
   "name": "python3"
  },
  "language_info": {
   "codemirror_mode": {
    "name": "ipython",
    "version": 3
   },
   "file_extension": ".py",
   "mimetype": "text/x-python",
   "name": "python",
   "nbconvert_exporter": "python",
   "pygments_lexer": "ipython3",
   "version": "3.8.10"
  }
 },
 "nbformat": 4,
 "nbformat_minor": 2
}
