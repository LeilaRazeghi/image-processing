{
 "cells": [
  {
   "cell_type": "markdown",
   "metadata": {},
   "source": []
  },
  {
   "cell_type": "code",
   "execution_count": 18,
   "metadata": {},
   "outputs": [],
   "source": [
    "import cv2\n",
    "import numpy as np"
   ]
  },
  {
   "cell_type": "code",
   "execution_count": 19,
   "metadata": {},
   "outputs": [],
   "source": [
    "image = cv2.imread('photo_2024-03-04_15-59-54.jpg', cv2.IMREAD_GRAYSCALE)"
   ]
  },
  {
   "cell_type": "code",
   "execution_count": 20,
   "metadata": {},
   "outputs": [],
   "source": [
    "# 1. Edge detection filter\n",
    "kernel1 = np.array([[-1 , -1 , -1],\n",
    "                   [-1 ,  8 , -1],\n",
    "                   [-1 , -1 , -1]])\n",
    "\n",
    "# 2. Sharpening filter\n",
    "kernel2 = np.array([[0  , -1 ,  0],\n",
    "                   [-1 ,  5 , -1],\n",
    "                   [0  , -1 ,  0]])\n",
    "\n",
    "# 3. Emboss filter\n",
    "kernel3 = np.array([[-2 , -1 ,  0],\n",
    "                   [-1 ,  1 ,  1],\n",
    "                   [0  ,  1 ,  2]])\n",
    "\n",
    "# 4. Identity filter\n",
    "kernel4 = np.array([[0  ,  0 ,  0],\n",
    "                   [0  ,  1 ,  0],\n",
    "                   [0  ,  0 ,  0]])\n",
    "\n",
    "# 5. Your filter\n",
    "kernel5 = np.array([[-1, 0, -1],\n",
    "                    [0, 5, 0],\n",
    "                    [-1, 0, -1]])"
   ]
  },
  {
   "cell_type": "code",
   "execution_count": 21,
   "metadata": {},
   "outputs": [
    {
     "data": {
      "text/plain": [
       "True"
      ]
     },
     "execution_count": 21,
     "metadata": {},
     "output_type": "execute_result"
    }
   ],
   "source": [
    "result1 = cv2.filter2D(image, -1, kernel1)\n",
    "result1 = np.hstack((image, result1))\n",
    "cv2.imwrite('output/result1.jpg', result1)"
   ]
  },
  {
   "cell_type": "code",
   "execution_count": 22,
   "metadata": {},
   "outputs": [
    {
     "data": {
      "text/plain": [
       "True"
      ]
     },
     "execution_count": 22,
     "metadata": {},
     "output_type": "execute_result"
    }
   ],
   "source": [
    "result2 = cv2.filter2D(image, -1, kernel2)\n",
    "result2 = np.hstack((image, result2))\n",
    "cv2.imwrite('output/result2.png', result2)"
   ]
  },
  {
   "cell_type": "code",
   "execution_count": 23,
   "metadata": {},
   "outputs": [
    {
     "data": {
      "text/plain": [
       "True"
      ]
     },
     "execution_count": 23,
     "metadata": {},
     "output_type": "execute_result"
    }
   ],
   "source": [
    "result3 = cv2.filter2D(image, -1, kernel3)\n",
    "result3 = np.hstack((image, result3))\n",
    "cv2.imwrite('output/result3.png',result3)"
   ]
  },
  {
   "cell_type": "code",
   "execution_count": 24,
   "metadata": {},
   "outputs": [
    {
     "data": {
      "text/plain": [
       "True"
      ]
     },
     "execution_count": 24,
     "metadata": {},
     "output_type": "execute_result"
    }
   ],
   "source": [
    "result4 = cv2.filter2D(image, -1, kernel4)\n",
    "result4 = np.hstack((image, result4))\n",
    "cv2.imwrite('output/result4.png', result4)"
   ]
  },
  {
   "cell_type": "code",
   "execution_count": 25,
   "metadata": {},
   "outputs": [
    {
     "data": {
      "text/plain": [
       "True"
      ]
     },
     "execution_count": 25,
     "metadata": {},
     "output_type": "execute_result"
    }
   ],
   "source": [
    "result5 = cv2.filter2D(image, -1, kernel5)\n",
    "result5 = np.hstack((image, result5))\n",
    "cv2.imwrite('output/result5.png',result5)"
   ]
  }
 ],
 "metadata": {
  "kernelspec": {
   "display_name": "Python 3",
   "language": "python",
   "name": "python3"
  },
  "language_info": {
   "codemirror_mode": {
    "name": "ipython",
    "version": 3
   },
   "file_extension": ".py",
   "mimetype": "text/x-python",
   "name": "python",
   "nbconvert_exporter": "python",
   "pygments_lexer": "ipython3",
   "version": "3.8.10"
  }
 },
 "nbformat": 4,
 "nbformat_minor": 2
}
