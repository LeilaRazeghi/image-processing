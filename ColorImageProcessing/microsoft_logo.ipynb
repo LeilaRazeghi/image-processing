{
 "cells": [
  {
   "cell_type": "code",
   "execution_count": 3,
   "metadata": {},
   "outputs": [],
   "source": [
    "import numpy as np\n",
    "from PIL import Image, ImageFont, ImageDraw"
   ]
  },
  {
   "cell_type": "code",
   "execution_count": 2,
   "metadata": {},
   "outputs": [],
   "source": [
    "\n",
    "# Create a grey background\n",
    "microsoft = np.full((310, 980, 3), 80, dtype=np.uint8)\n",
    "\n",
    "# Define colors\n",
    "colors = [(242, 80, 34), #red\n",
    "           (127, 186, 0), #green\n",
    "             (255, 185, 1), #yellow\n",
    "               (1, 164, 239)]  #blue\n",
    "\n",
    "# Add colored squares\n",
    "for i, (y1, y2, x1, x2) in enumerate([(50, 150, 100, 200), (50, 150, 210, 310),\n",
    "                                      (160, 260, 210, 310), (160, 260, 100, 200)]):\n",
    "    microsoft[y1:y2, x1:x2] = colors[i]\n",
    "\n",
    "# Create an Image object\n",
    "microsoft_img = Image.fromarray(microsoft)\n",
    "\n",
    "# Add text\n",
    "draw = ImageDraw.Draw(microsoft_img)\n",
    "font = ImageFont.truetype('input/SEGUISB.TTF', 120)\n",
    "draw.text((350, 70), \"Microsoft\", font=font, fill=(255, 255, 255))\n",
    "\n",
    "# Save the image\n",
    "microsoft_img.save(\"output/ms_logo.png\")\n"
   ]
  }
 ],
 "metadata": {
  "kernelspec": {
   "display_name": "Python 3",
   "language": "python",
   "name": "python3"
  },
  "language_info": {
   "codemirror_mode": {
    "name": "ipython",
    "version": 3
   },
   "file_extension": ".py",
   "mimetype": "text/x-python",
   "name": "python",
   "nbconvert_exporter": "python",
   "pygments_lexer": "ipython3",
   "version": "3.8.10"
  }
 },
 "nbformat": 4,
 "nbformat_minor": 2
}
