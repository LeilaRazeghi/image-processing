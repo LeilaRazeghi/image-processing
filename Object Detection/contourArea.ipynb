{
 "cells": [
  {
   "cell_type": "code",
   "execution_count": 1,
   "metadata": {},
   "outputs": [],
   "source": [
    "import cv2\n",
    "import numpy as np"
   ]
  },
  {
   "cell_type": "code",
   "execution_count": null,
   "metadata": {},
   "outputs": [],
   "source": [
    "def contourArea(contour):\n",
    "    area = 0\n",
    "    \n",
    "    # iterate over all points in the contour\n",
    "    for i in range(len(contour) - 1):\n",
    "        # extract coordinates of adjacent points\n",
    "        x1, y1 = contour[i][0]\n",
    "        x2, y2 = contour[i+1][0]\n",
    "        \n",
    "        # add the area of the trapezoid formed by the points to the total area\n",
    "        area += (x1 * y2 - x2 * y1) / 2.0\n",
    "    \n",
    "    # close the contour (connect the last point to the first point)\n",
    "    x1, y1 = contour[-1][0]\n",
    "    x2, y2 = contour[0][0]\n",
    "    area += (x1 * y2 - x2 * y1) / 2.0\n",
    "    \n",
    "    # take the absolute value of the area (it could be negative depending on contour orientation)\n",
    "    area = abs(area)\n",
    "    \n",
    "    return area\n"
   ]
  }
 ],
 "metadata": {
  "kernelspec": {
   "display_name": "Python 3",
   "language": "python",
   "name": "python3"
  },
  "language_info": {
   "codemirror_mode": {
    "name": "ipython",
    "version": 3
   },
   "file_extension": ".py",
   "mimetype": "text/x-python",
   "name": "python",
   "nbconvert_exporter": "python",
   "pygments_lexer": "ipython3",
   "version": "3.8.10"
  }
 },
 "nbformat": 4,
 "nbformat_minor": 2
}
